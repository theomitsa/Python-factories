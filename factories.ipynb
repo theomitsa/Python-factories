{
 "cells": [
  {
   "cell_type": "markdown",
   "metadata": {},
   "source": [
    "                    AN EXAMPLE OF PYTHON FACTORIES"
   ]
  },
  {
   "cell_type": "markdown",
   "metadata": {},
   "source": [
    "Abstract factories"
   ]
  },
  {
   "cell_type": "code",
   "execution_count": 48,
   "metadata": {},
   "outputs": [],
   "source": [
    "import ast\n",
    "from abc import ABC\n",
    "class FootWear(ABC):\n",
    "    def shoespecs(self, c=\"Brown\"):\n",
    "        self.color = c\n",
    "\n",
    "\n",
    "class MensClothes(ABC):\n",
    "    def __init__(self, rt=\"Brown\", rb=\"Brown\"):\n",
    "        self.colort = rt\n",
    "        self.colorb = rb\n",
    "\n",
    "    def clothespecs(self, foot_w):\n",
    "        pass\n",
    "\n"
   ]
  },
  {
   "cell_type": "markdown",
   "metadata": {},
   "source": [
    "Concrete factories"
   ]
  },
  {
   "cell_type": "code",
   "execution_count": 49,
   "metadata": {},
   "outputs": [],
   "source": [
    "class Boots(FootWear):\n",
    "    def __init__(self):\n",
    "        print(\"Wear boots on a cold day\")\n",
    "\n",
    "    def shoespecs(self, c=\"Brown\"):\n",
    "        print(f\"You picked {c} boots\")\n",
    "\n",
    "\n",
    "class Loafers(FootWear):\n",
    "    def __init__(self):\n",
    "        print(\"Shoes for a nice day\")\n",
    "\n",
    "    def shoespecs(self, c=\"Brown\"):\n",
    "        print(f\"You picked {c} loafers\")\n",
    "\n"
   ]
  },
  {
   "cell_type": "markdown",
   "metadata": {},
   "source": [
    "More concrete factories"
   ]
  },
  {
   "cell_type": "code",
   "execution_count": 50,
   "metadata": {},
   "outputs": [],
   "source": [
    "class SweaterAndCorduroyPants(MensClothes):\n",
    "    def __init__(self, rt=\"Brown\", rb=\"Brown\"):\n",
    "        super().__init__(rt, rb)\n",
    "        print(f\"You picked the {rt} sweater and the {rb} corduroy pants\")\n",
    "\n",
    "    def clothespecs(self, foot_w):\n",
    "        foot_w.shoespecs(c=self.colorb)\n",
    "\n",
    "\n",
    "class ButtonDownShirtAndDressPants(MensClothes):\n",
    "    def __init__(self, rt=\"Brown\", rb=\"Brown\"):\n",
    "        super().__init__(rt, rb)\n",
    "        print(f\"You picked the {rt} button-down shirt and the {rb} dress pants \")\n",
    "\n",
    "    def clothespecs(self, foot_w):\n",
    "        foot_w.shoespecs(c=self.colorb)"
   ]
  },
  {
   "cell_type": "markdown",
   "metadata": {},
   "source": [
    "Abstract factory"
   ]
  },
  {
   "cell_type": "code",
   "execution_count": 51,
   "metadata": {},
   "outputs": [],
   "source": [
    "class Outfit(ABC):\n",
    "    def __init__self(self):\n",
    "        self.formality=0\n",
    "        pass\n",
    "\n",
    "    def choose_clothes(self):\n",
    "        pass\n",
    "\n",
    "    def choose_shoes(self):\n",
    "        pass"
   ]
  },
  {
   "cell_type": "markdown",
   "metadata": {},
   "source": [
    "Concrete factories"
   ]
  },
  {
   "cell_type": "code",
   "execution_count": 52,
   "metadata": {},
   "outputs": [],
   "source": [
    "# Concrete factories:\n",
    "class LightColor_ColdAndCasualDay(Outfit):\n",
    "    def __init__(self):\n",
    "        self.formality = 1\n",
    "        self.name = \"Light Colored Outfit for a Cold and Casual Day\"\n",
    "\n",
    "    def choose_clothes(self):\n",
    "        return SweaterAndCorduroyPants(rt=\"Cream-colored\", rb=\"Light Brown\")\n",
    "\n",
    "    def choose_shoes(self):\n",
    "        return Boots()\n",
    "\n",
    "\n",
    "class DarkColor_WarmSemiFormalDay(Outfit):\n",
    "    def __init__(self):\n",
    "        self.formality = 2\n",
    "        self.name = \"Dark Colored Outfit for a Semi-Formal Day\"\n",
    "\n",
    "    def choose_clothes(self):\n",
    "        return ButtonDownShirtAndDressPants(rt='burgundy',rb='black')\n",
    "\n",
    "    def choose_shoes(self):\n",
    "        return Loafers()\n",
    "    "
   ]
  },
  {
   "cell_type": "markdown",
   "metadata": {},
   "source": [
    "Our orchestrating class"
   ]
  },
  {
   "cell_type": "code",
   "execution_count": 53,
   "metadata": {},
   "outputs": [],
   "source": [
    "class Look:\n",
    "    def __init__(self, factory):\n",
    "        self.factory = factory\n",
    "        self.name = factory.name\n",
    "        print(factory.name)\n",
    "        self.clo = factory.choose_clothes()\n",
    "        self.sho = factory.choose_shoes()\n",
    "        self.formality = factory.formality\n",
    "\n",
    "    def dress(self):\n",
    "        self.clo.clothespecs(self.sho)\n",
    "\n",
    "    def __eq__(self, m):\n",
    "        return self.formality == m.formality\n",
    "\n",
    "    def __gt__(self, m):\n",
    "        return self.formality > m.formality\n",
    "\n"
   ]
  },
  {
   "cell_type": "markdown",
   "metadata": {},
   "source": [
    "Let us create some objects"
   ]
  },
  {
   "cell_type": "code",
   "execution_count": 54,
   "metadata": {},
   "outputs": [
    {
     "name": "stdout",
     "output_type": "stream",
     "text": [
      "Light Colored Outfit for a Cold and Casual Day\n",
      "You picked the Cream-colored sweater and the Light Brown corduroy pants\n",
      "Wear boots on a cold day\n",
      "You picked Light Brown boots\n",
      "Dark Colored Outfit for a Semi-Formal Day\n",
      "You picked the burgundy button-down shirt and the black dress pants \n",
      "Shoes for a nice day\n",
      "You picked black loafers\n",
      "False\n",
      "True\n"
     ]
    }
   ],
   "source": [
    "g1 = Look(LightColor_ColdAndCasualDay())\n",
    "g1.dress()\n",
    "g2 = Look(DarkColor_WarmSemiFormalDay())\n",
    "g2.dress()\n",
    "print(g1 == g2)\n",
    "print(g2 > g1)"
   ]
  },
  {
   "cell_type": "markdown",
   "metadata": {},
   "source": [
    "Import virtual wardrobe"
   ]
  },
  {
   "cell_type": "code",
   "execution_count": 55,
   "metadata": {},
   "outputs": [
    {
     "name": "stdout",
     "output_type": "stream",
     "text": [
      "{'Cold Formal Day Business Suit': 3, 'Light Colored Outfit for a Cold and Casual Day': 1, 'Dark Colored Outfit for a Semi-Formal Day': 2}\n"
     ]
    }
   ],
   "source": [
    "with open('virtual_wardrobe.txt') as f:\n",
    "    data = f.read()\n",
    "wardrobe = ast.literal_eval(data)\n",
    "print(wardrobe)"
   ]
  },
  {
   "cell_type": "markdown",
   "metadata": {},
   "source": [
    "Save new virtual wardrobe"
   ]
  },
  {
   "cell_type": "code",
   "execution_count": 56,
   "metadata": {},
   "outputs": [
    {
     "name": "stdout",
     "output_type": "stream",
     "text": [
      "{'Cold Formal Day Business Suit': 3, 'Light Colored Outfit for a Cold and Casual Day': 1, 'Dark Colored Outfit for a Semi-Formal Day': 2}\n"
     ]
    }
   ],
   "source": [
    "wardrobe[g1.name] = g1.formality\n",
    "wardrobe[g2.name] = g2.formality\n",
    "print(wardrobe)\n",
    "\n",
    "with open('virtual_wardrobe.txt', 'w') as v_wardrobe:\n",
    "    v_wardrobe.write(str(wardrobe))\n",
    "v_wardrobe.close()\n"
   ]
  }
 ],
 "metadata": {
  "kernelspec": {
   "display_name": "Python 3",
   "language": "python",
   "name": "python3"
  },
  "language_info": {
   "codemirror_mode": {
    "name": "ipython",
    "version": 3
   },
   "file_extension": ".py",
   "mimetype": "text/x-python",
   "name": "python",
   "nbconvert_exporter": "python",
   "pygments_lexer": "ipython3",
   "version": "3.6.9"
  }
 },
 "nbformat": 4,
 "nbformat_minor": 2
}
